{
 "cells": [
  {
   "cell_type": "markdown",
   "metadata": {},
   "source": [
    "# Cleaning meteo station data\n",
    "\n",
    "Pro zacatek jsem nasla coordinates oficialnich meterorologickych stanic v ceske republice na\n",
    "\n",
    "https://www.chmi.cz/aktualni-situace/aktualni-stav-pocasi/ceska-republika/stanice/profesionalni-stanice/tabulky/zemepisne-souradnice?l=en\n",
    "\n",
    "Zaznamy zahrnuji i jejich nadmorske vysky, coz se bude hodit dal v planovanych analyzach. Data tradicne nevypadaji tak, jak bych si predstavovala, proto jsem si je precistila.\n",
    "\n",
    "Coordinates budou dale pouzity ke stazeni meteorologickych dat z open meteo."
   ]
  },
  {
   "cell_type": "markdown",
   "metadata": {},
   "source": [
    "Imports"
   ]
  },
  {
   "cell_type": "code",
   "execution_count": null,
   "metadata": {},
   "outputs": [],
   "source": [
    "import pandas as pd"
   ]
  },
  {
   "cell_type": "markdown",
   "metadata": {},
   "source": [
    "Functions\n",
    "- opening and pre-clearing the root csv\n",
    "- selecting only coordinates\n",
    "- selecting name, coordinates in float form and elevation data"
   ]
  },
  {
   "cell_type": "code",
   "execution_count": 3,
   "metadata": {},
   "outputs": [],
   "source": [
    "def open_file(file_path):\n",
    "    stanice = []\n",
    "    with open(file_path, mode=\"r\", encoding=\"utf-8\") as my_file:\n",
    "        for line in my_file:\n",
    "            line = line.split(\",\")\n",
    "            line = [item.replace(\"°\", \"\") for item in line]\n",
    "            line = [item.replace(\"\\n\", \"\") for item in line]\n",
    "            stanice.append(line)\n",
    "    return stanice\n",
    "\n",
    "def meteo_souradnice(stanice):\n",
    "    souradnice = []\n",
    "    for line in stanice:\n",
    "        souradnice.append([line[2], line[4], line[6]])\n",
    "    return souradnice\n",
    "\n",
    "def seznam_stanic(stanice):\n",
    "    souradnice = []\n",
    "    for line in stanice:\n",
    "        souradnice.append([line[0], line[2], line[4], line[6]])\n",
    "    return souradnice"
   ]
  },
  {
   "cell_type": "markdown",
   "metadata": {},
   "source": [
    "Opening and pre-cleaning the data, saving 2 files:\n",
    " - csv with meteo-stations coordinates (only) that will be used for downloading data from open meteo\n",
    " - csv with cleaned data of the meteo-stations including their names and altitude. This will be used in the future for the analysis."
   ]
  },
  {
   "cell_type": "code",
   "execution_count": null,
   "metadata": {},
   "outputs": [],
   "source": [
    "\n",
    "file_path = \"data/01_stanice.csv\"\n",
    "stanice = open_file(file_path)\n",
    "stanice = stanice[1:]\n",
    "\n",
    "souradnice = meteo_souradnice(stanice)\n",
    "df_souradnice = pd.DataFrame(souradnice, columns = [\"latitude\", \"longitude\", \"elevation\"])\n",
    "df_souradnice.to_csv(\"data/02_souradnice.csv\", index=False, encoding=\"utf-8\")\n",
    "\n",
    "souradnice = seznam_stanic(stanice)\n",
    "df_souradnice = pd.DataFrame(souradnice, columns = [\"location_id\", \"latitude\", \"longitude\", \"elevation\"])\n",
    "df_souradnice.to_csv(\"data/03_stanice.csv\", encoding=\"utf-8\")"
   ]
  }
 ],
 "metadata": {
  "kernelspec": {
   "display_name": "Python 3",
   "language": "python",
   "name": "python3"
  },
  "language_info": {
   "codemirror_mode": {
    "name": "ipython",
    "version": 3
   },
   "file_extension": ".py",
   "mimetype": "text/x-python",
   "name": "python",
   "nbconvert_exporter": "python",
   "pygments_lexer": "ipython3",
   "version": "3.12.2"
  }
 },
 "nbformat": 4,
 "nbformat_minor": 2
}
