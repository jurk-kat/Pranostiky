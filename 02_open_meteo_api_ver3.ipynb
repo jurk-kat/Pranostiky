{
 "cells": [
  {
   "cell_type": "markdown",
   "metadata": {},
   "source": [
    "NOTES to the VER3 (13.12.2024):\n",
    "\n",
    "This version comes from the 02_open_meteo_api.py. The adjustment I do here is to pick & save only the information for the dates required. I already know ver2 will not work for longer lists of coordinates due to the restriction of number of apis one can run in a minute, hour and day. To cut down the amount of saved data, I decided to try to save only the required dates (25.11. and 24.12.) from the set of dates of all 50 or how many years. That allows me to run the code only once for each coordinate & save my api call count as well as to get the max amount of relevant data from it without saving that 363/365 unnecessary lines.\n",
    "\n",
    "\n",
    "------------------------------------------------------\n",
    "\n",
    "This code, originally copied from open meteo, was adjusted for our needs. The original code included two lists of coordinate data - one with latitudes, one with longtitudes. The aim of is to rewrite the code so that instead of using a list, it utilizes a reference to a CSV file containing coordinates. This way, it will more versatile in the future, for example, if I manage to obtain a point map of a specific area - eg Czech Republic.\n",
    "\n",
    "The original code was processing only the first location, therefore for-loop was added so that the user gets data from all the coordinates in the list. More adjustments were needed in order to be able to obtain a suitable CSV file. I wanted to make sure each row would have coordinates as well, or an index of the location. That would make it easier in the future when analyzing with SQL and joins, or in PowerBi (I will see how I will proceed). Generally I want a tie between the location and the meteorological data.\n",
    "\n",
    "Now it is done. Every line will start with its coordinates and elevation.\n",
    "\n",
    "#For the future: if I get coordinates of the whole country, this will be a lot of data. It will be handy to rewrite the code for date in such a way that I get only dates that I am interested in - eg. 25.11. each year and 24.12. each year. That could be done by adding another for loop in the outer layer which would change start and end date for each run of the for loop. It would mean several downloads from the site. I know open meteo allows me to run only certain amount of downloads - and I do not know if it is number of downloads or data size dependent. I guess I will have to try & see.\n",
    "\n",
    "------------------------------------------------------\n",
    "\n",
    "\n",
    "\n",
    " "
   ]
  },
  {
   "cell_type": "markdown",
   "metadata": {},
   "source": [
    "Ipmorts"
   ]
  },
  {
   "cell_type": "code",
   "execution_count": null,
   "metadata": {},
   "outputs": [],
   "source": [
    "import openmeteo_requests\n",
    "import requests_cache\n",
    "import pandas as pd\n",
    "from retry_requests import retry"
   ]
  },
  {
   "cell_type": "markdown",
   "metadata": {},
   "source": [
    "Setup the Open-Meteo API client with cache and retry on error"
   ]
  },
  {
   "cell_type": "code",
   "execution_count": null,
   "metadata": {},
   "outputs": [],
   "source": [
    "cache_session = requests_cache.CachedSession('.cache', expire_after = -1)\n",
    "retry_session = retry(cache_session, retries = 5, backoff_factor = 0.2)\n",
    "openmeteo = openmeteo_requests.Client(session = retry_session)\n"
   ]
  },
  {
   "cell_type": "markdown",
   "metadata": {},
   "source": [
    "\n",
    "The file path, url and lists that will be used in the future of the code.\n",
    "Adjustments were made to allow me change things here and not necessarily in the body of the less user friendly part of the code\n"
   ]
  },
  {
   "cell_type": "code",
   "execution_count": null,
   "metadata": {},
   "outputs": [],
   "source": [
    "\n",
    "file_path_1 = \"data/02_souradnice.csv\"\n",
    "url = \"https://archive-api.open-meteo.com/v1/archive\"\n",
    "start_date = \"1940-01-01\"\n",
    "end_date = \"2023-12-31\"\n",
    "desired_dates = [\"11-25\", \"12-24\"]\n",
    "katerina_date = desired_dates[0]\n",
    "vanoce_date = desired_dates[1]\n",
    "\n",
    "whole_data = []\n",
    "katerina = []\n",
    "vanoce = []\n",
    "\n",
    "latitude = []\n",
    "longitude = []\n",
    "elevation = []\n"
   ]
  },
  {
   "cell_type": "markdown",
   "metadata": {},
   "source": [
    "Open the file with coordinates"
   ]
  },
  {
   "cell_type": "code",
   "execution_count": null,
   "metadata": {},
   "outputs": [],
   "source": [
    "\n",
    "with open(file_path_1, mode=\"r\", encoding=\"utf-8\") as my_file:\n",
    "    for index, line in enumerate(my_file):\n",
    "        if index == 0:\n",
    "            continue\n",
    "        line = line.split(\",\")\n",
    "        line = [float(item.strip()) for item in line]\n",
    "        latitude.append(line[0])\n",
    "        longitude.append(line[1])\n",
    "        elevation.append(line[2])\n",
    "\n",
    "# # this is just temporary & for the purposes of development of this code: I am cutting off the rest of the coordinates & keeping just the first 5 for now. Each time I run the code I use only 5 api calls but I still get to check if my code works. \n",
    "# latitude = latitude[:5]\n",
    "# longitude = longitude[:5]\n",
    "# # end of the temporaty code\n"
   ]
  },
  {
   "cell_type": "markdown",
   "metadata": {},
   "source": [
    "parameters"
   ]
  },
  {
   "cell_type": "code",
   "execution_count": null,
   "metadata": {},
   "outputs": [],
   "source": [
    "\n",
    "params = {\n",
    "\t\"latitude\": latitude,\n",
    "\t\"longitude\": longitude,\n",
    "\t\"start_date\": start_date,\n",
    "\t\"end_date\": end_date,\n",
    "\t\"daily\": [\"weather_code\", \"temperature_2m_max\", \"temperature_2m_min\", \"temperature_2m_mean\", \"apparent_temperature_max\", \"apparent_temperature_min\", \"apparent_temperature_mean\", \"sunrise\", \"sunset\", \"daylight_duration\", \"sunshine_duration\", \"precipitation_sum\", \"rain_sum\", \"snowfall_sum\", \"precipitation_hours\", \"wind_speed_10m_max\", \"wind_gusts_10m_max\", \"wind_direction_10m_dominant\", \"shortwave_radiation_sum\", \"et0_fao_evapotranspiration\"]\n",
    "}\n",
    "responses = openmeteo.weather_api(url, params=params)\n"
   ]
  },
  {
   "cell_type": "markdown",
   "metadata": {},
   "source": [
    "\"Add a for-loop for multiple locations or weather models.\" - yep, I did ;)"
   ]
  },
  {
   "cell_type": "code",
   "execution_count": null,
   "metadata": {},
   "outputs": [],
   "source": [
    "\n",
    "for index, response in enumerate(responses):\n",
    "    for_list = []\n",
    "\n",
    "    daily = response.Daily()\n",
    "    daily_weather_code = daily.Variables(0).ValuesAsNumpy()\n",
    "    daily_temperature_2m_max = daily.Variables(1).ValuesAsNumpy()\n",
    "    daily_temperature_2m_min = daily.Variables(2).ValuesAsNumpy()\n",
    "    daily_temperature_2m_mean = daily.Variables(3).ValuesAsNumpy()\n",
    "    daily_apparent_temperature_max = daily.Variables(4).ValuesAsNumpy()\n",
    "    daily_apparent_temperature_min = daily.Variables(5).ValuesAsNumpy()\n",
    "    daily_apparent_temperature_mean = daily.Variables(6).ValuesAsNumpy()\n",
    "    daily_sunrise = daily.Variables(7).ValuesAsNumpy()\n",
    "    daily_sunset = daily.Variables(8).ValuesAsNumpy()\n",
    "    daily_daylight_duration = daily.Variables(9).ValuesAsNumpy()\n",
    "    daily_sunshine_duration = daily.Variables(10).ValuesAsNumpy()\n",
    "    daily_precipitation_sum = daily.Variables(11).ValuesAsNumpy()\n",
    "    daily_rain_sum = daily.Variables(12).ValuesAsNumpy()\n",
    "    daily_snowfall_sum = daily.Variables(13).ValuesAsNumpy()\n",
    "    daily_precipitation_hours = daily.Variables(14).ValuesAsNumpy()\n",
    "    daily_wind_speed_10m_max = daily.Variables(15).ValuesAsNumpy()\n",
    "    daily_wind_gusts_10m_max = daily.Variables(16).ValuesAsNumpy()\n",
    "    daily_wind_direction_10m_dominant = daily.Variables(17).ValuesAsNumpy()\n",
    "    daily_shortwave_radiation_sum = daily.Variables(18).ValuesAsNumpy()\n",
    "    daily_et0_fao_evapotranspiration = daily.Variables(19).ValuesAsNumpy()\n",
    "\n",
    "    daily_data = {\"date\": [date.strftime(\"%Y-%m-%d\") for date in pd.date_range(\n",
    "            start=pd.to_datetime(daily.Time(), unit=\"s\", utc=True).date(),\n",
    "            end=pd.to_datetime(daily.TimeEnd(), unit=\"s\", utc=True).date(),\n",
    "            freq=pd.Timedelta(seconds=daily.Interval()),\n",
    "            inclusive=\"left\"\n",
    "    )]}\n",
    "    daily_data[\"weather_code\"] = daily_weather_code\n",
    "    daily_data[\"temperature_2m_max\"] = daily_temperature_2m_max\n",
    "    daily_data[\"temperature_2m_min\"] = daily_temperature_2m_min\n",
    "    daily_data[\"temperature_2m_mean\"] = daily_temperature_2m_mean\n",
    "    daily_data[\"apparent_temperature_max\"] = daily_apparent_temperature_max\n",
    "    daily_data[\"apparent_temperature_min\"] = daily_apparent_temperature_min\n",
    "    daily_data[\"apparent_temperature_mean\"] = daily_apparent_temperature_mean\n",
    "    daily_data[\"sunrise\"] = daily_sunrise\n",
    "    daily_data[\"sunset\"] = daily_sunset\n",
    "    daily_data[\"daylight_duration\"] = daily_daylight_duration\n",
    "    daily_data[\"sunshine_duration\"] = daily_sunshine_duration\n",
    "    daily_data[\"precipitation_sum\"] = daily_precipitation_sum\n",
    "    daily_data[\"rain_sum\"] = daily_rain_sum\n",
    "    daily_data[\"snowfall_sum\"] = daily_snowfall_sum\n",
    "    daily_data[\"precipitation_hours\"] = daily_precipitation_hours\n",
    "    daily_data[\"wind_speed_10m_max\"] = daily_wind_speed_10m_max\n",
    "    daily_data[\"wind_gusts_10m_max\"] = daily_wind_gusts_10m_max\n",
    "    daily_data[\"wind_direction_10m_dominant\"] = daily_wind_direction_10m_dominant\n",
    "    daily_data[\"shortwave_radiation_sum\"] = daily_shortwave_radiation_sum\n",
    "    daily_data[\"et0_fao_evapotranspiration\"] = daily_et0_fao_evapotranspiration\n",
    "\n",
    "    daily_dataframe = pd.DataFrame(data=daily_data)\n",
    "    for_list.extend(daily_dataframe.values.tolist())\n",
    "\n",
    "    lat = latitude[index]\n",
    "    lon = longitude[index]\n",
    "    ele = elevation[index]\n",
    "\n",
    "    for inner_list in for_list:\n",
    "        inner_list.insert(0, ele)\n",
    "        inner_list.insert(0, lon)\n",
    "        inner_list.insert(0, lat)\n",
    "    \n",
    "    # for line in for_list:\n",
    "    #     if line[3][5:] in desired_dates: # I am filtering out only desired dates for all the years.\n",
    "    #         whole_data.append(line)\n",
    "\n",
    "    # the upper variation of the code would work for the whole list but I find it handy to filter it right away:\n",
    "\n",
    "    for line in for_list:\n",
    "        if line[3][5:] in katerina_date: # I am filtering out only 25.11. for all the years.\n",
    "            katerina.append(line)\n",
    "        elif line[3][5:] in vanoce_date: # I am filtering out only 24.12. for all the years.\n",
    "            vanoce.append(line)"
   ]
  },
  {
   "cell_type": "markdown",
   "metadata": {},
   "source": [
    "Saving the file"
   ]
  },
  {
   "cell_type": "code",
   "execution_count": null,
   "metadata": {},
   "outputs": [],
   "source": [
    "\n",
    "\n",
    "# df_whole_data = pd.DataFrame(whole_data, columns = [\"latitude\", \"longtitude\", \"elevation\", \"date\", \"weather_code\", \"temperature_2m_max\", \"temperature_2m_min\", \"temperature_2m_mean\", \"apparent_temperature_max\", \"apparent_temperature_min\", \"apparent_temperature_mean\", \"sunrise\", \"sunset\", \"daylight_duration\", \"sunshine_duration\", \"precipitation_sum\", \"rain_sum\", \"snowfall_sum\", \"precipitation_hours\", \"wind_speed_10m_max\", \"wind_gusts_10m_max\", \"wind_direction_10m_dominant\", \"shortwave_radiation_sum\", \"et0_fao_evapotranspiration\"])\n",
    "# df_whole_data.to_csv(\"data/open_meteo.csv\", encoding=\"utf-8\")\n",
    "\n",
    "df_katerina = pd.DataFrame(katerina, columns = [\"latitude\", \"longtitude\", \"elevation\", \"date\", \"weather_code\", \"temperature_2m_max\", \"temperature_2m_min\", \"temperature_2m_mean\", \"apparent_temperature_max\", \"apparent_temperature_min\", \"apparent_temperature_mean\", \"sunrise\", \"sunset\", \"daylight_duration\", \"sunshine_duration\", \"precipitation_sum\", \"rain_sum\", \"snowfall_sum\", \"precipitation_hours\", \"wind_speed_10m_max\", \"wind_gusts_10m_max\", \"wind_direction_10m_dominant\", \"shortwave_radiation_sum\", \"et0_fao_evapotranspiration\"])\n",
    "df_katerina.to_csv(\"data/katerina.csv\", encoding=\"utf-8\")\n",
    "\n",
    "df_vanoce = pd.DataFrame(vanoce, columns = [\"latitude\", \"longtitude\", \"elevation\", \"date\", \"weather_code\", \"temperature_2m_max\", \"temperature_2m_min\", \"temperature_2m_mean\", \"apparent_temperature_max\", \"apparent_temperature_min\", \"apparent_temperature_mean\", \"sunrise\", \"sunset\", \"daylight_duration\", \"sunshine_duration\", \"precipitation_sum\", \"rain_sum\", \"snowfall_sum\", \"precipitation_hours\", \"wind_speed_10m_max\", \"wind_gusts_10m_max\", \"wind_direction_10m_dominant\", \"shortwave_radiation_sum\", \"et0_fao_evapotranspiration\"])\n",
    "df_vanoce.to_csv(\"data/vanoce.csv\", encoding=\"utf-8\")"
   ]
  }
 ],
 "metadata": {
  "language_info": {
   "name": "python"
  }
 },
 "nbformat": 4,
 "nbformat_minor": 2
}
